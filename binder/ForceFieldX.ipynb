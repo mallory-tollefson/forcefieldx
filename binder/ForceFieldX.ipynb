{
 "cells": [
  {
   "cell_type": "code",
   "execution_count": null,
   "metadata": {
    "colab": {},
    "colab_type": "code",
    "id": "xMwudbNPfL_a"
   },
   "outputs": [],
   "source": [
    "// Choose a PDB file from the Protein Databank.\n",
    "import org.apache.commons.io.IOUtils;\n",
    "var pdbID = \"2jof.pdb\";\n",
    "try {\n",
    "    System.out.print(\" Downloading \" + pdbID + \" ...\");\n",
    "    var rcsb = \"https://files.rcsb.org/download/\";\n",
    "    var pb = new ProcessBuilder(\"wget\", rcsb + pdbID);\n",
    "    var proc = pb.start();\n",
    "    proc.waitFor();\n",
    "    System.out.println(\" Done.\");\n",
    "    System.out.println(IOUtils.toString(proc.getInputStream()));\n",
    "    System.out.println(IOUtils.toString(proc.getErrorStream()));\n",
    "} catch (Exception e) {\n",
    "    System.out.println(\" Exception downloading PDB file: \" + e.toString());\n",
    "}   "
   ]
  },
  {
   "cell_type": "code",
   "execution_count": null,
   "metadata": {
    "colab": {},
    "colab_type": "code",
    "id": "JKWDA9fJ-Vny"
   },
   "outputs": [],
   "source": [
    "// Execute the Force Field X energy command on the selected PDB file.\n",
    "try {\n",
    "    System.out.print(\" Running Force Field X on \" + pdbID + \" ...\");\n",
    "    var pb = new ProcessBuilder(\"/ffx/bin/ffxc\", \"Energy\", pdbID);\n",
    "    var proc = pb.start();\n",
    "    proc.waitFor();\n",
    "    System.out.println(\" Done.\");\n",
    "    System.out.println(IOUtils.toString(proc.getInputStream()));\n",
    "    System.out.println(IOUtils.toString(proc.getErrorStream()));\n",
    "} catch (Exception e) {\n",
    "    System.out.println(\" Exception running Force Field X: \" + e.toString());\n",
    "}"
   ]
  }
 ],
 "metadata": {
  "accelerator": "GPU",
  "colab": {
   "authorship_tag": "ABX9TyPAJdhPTSc53Z0lSjISlRNy",
   "collapsed_sections": [],
   "name": "ForceFieldX.ipynb",
   "private_outputs": true,
   "provenance": [
    {
     "file_id": "1qtAt-Q0U1GliJnVvTJ-fFgr4NsoIo_HZ",
     "timestamp": 1587655148852
    }
   ]
  },
  "kernelspec": {
   "display_name": "Java",
   "language": "java",
   "name": "java"
  },
  "language_info": {
   "codemirror_mode": "java",
   "file_extension": ".jshell",
   "mimetype": "text/x-java-source",
   "name": "Java",
   "pygments_lexer": "java",
   "version": "11.0.7+10"
  }
 },
 "nbformat": 4,
 "nbformat_minor": 4
}
