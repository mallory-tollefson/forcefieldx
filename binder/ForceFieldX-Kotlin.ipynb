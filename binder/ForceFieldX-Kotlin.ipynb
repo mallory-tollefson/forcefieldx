{
 "cells": [
  {
   "cell_type": "code",
   "execution_count": null,
   "metadata": {},
   "outputs": [],
   "source": [
    "%use ffx\n",
    "import org.apache.commons.io.IOUtils;\n",
    "\n",
    "val pdb = \"2jof.pdb\"\n",
    "try {\n",
    "    System.out.print(\" Downloading \" + pdb + \" ...\")\n",
    "    val rcsb = \"https://files.rcsb.org/download/\"\n",
    "    val pb = ProcessBuilder(\"wget\", rcsb + pdb)\n",
    "    val proc = pb.start()\n",
    "    proc.waitFor()\n",
    "    System.out.println(\" Done.\")\n",
    "    System.out.println(IOUtils.toString(proc.getInputStream()))\n",
    "    System.out.println(IOUtils.toString(proc.getErrorStream()))\n",
    "} catch (e: Exception) {\n",
    "    System.out.println(\" Exception downloading PDB file: \" + e.toString())\n",
    "}\n"
   ]
  },
  {
   "cell_type": "code",
   "execution_count": null,
   "metadata": {},
   "outputs": [],
   "source": [
    "// Run the Force Field X Energy script.\n",
    "\n",
    "Main.ffxScript(arrayOf(\"Energy\",pdb))"
   ]
  }
 ],
 "metadata": {
  "kernelspec": {
   "display_name": "Kotlin",
   "language": "kotlin",
   "name": "kotlin"
  },
  "language_info": {
   "codemirror_mode": "text/x-kotlin",
   "file_extension": ".kt",
   "mimetype": "text/x-kotlin",
   "name": "kotlin",
   "pygments_lexer": "kotlin",
   "version": "1.4.0-dev-7568"
  }
 },
 "nbformat": 4,
 "nbformat_minor": 4
}
